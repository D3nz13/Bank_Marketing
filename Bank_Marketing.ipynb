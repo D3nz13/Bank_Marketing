{
 "cells": [
  {
   "cell_type": "code",
   "execution_count": 1,
   "id": "comfortable-london",
   "metadata": {},
   "outputs": [
    {
     "data": {
      "text/html": [
       "<div>\n",
       "<style scoped>\n",
       "    .dataframe tbody tr th:only-of-type {\n",
       "        vertical-align: middle;\n",
       "    }\n",
       "\n",
       "    .dataframe tbody tr th {\n",
       "        vertical-align: top;\n",
       "    }\n",
       "\n",
       "    .dataframe thead th {\n",
       "        text-align: right;\n",
       "    }\n",
       "</style>\n",
       "<table border=\"1\" class=\"dataframe\">\n",
       "  <thead>\n",
       "    <tr style=\"text-align: right;\">\n",
       "      <th></th>\n",
       "      <th>Age</th>\n",
       "      <th>Job</th>\n",
       "      <th>Marital Status</th>\n",
       "      <th>Education</th>\n",
       "      <th>Credit</th>\n",
       "      <th>Balance (euros)</th>\n",
       "      <th>Housing Loan</th>\n",
       "      <th>Personal Loan</th>\n",
       "      <th>Contact</th>\n",
       "      <th>Last Contact Day</th>\n",
       "      <th>Last Contact Month</th>\n",
       "      <th>Last Contact Duration</th>\n",
       "      <th>Campaign</th>\n",
       "      <th>Pdays</th>\n",
       "      <th>Previous</th>\n",
       "      <th>Poutcome</th>\n",
       "      <th>Subscription</th>\n",
       "    </tr>\n",
       "  </thead>\n",
       "  <tbody>\n",
       "    <tr>\n",
       "      <th>0</th>\n",
       "      <td>58</td>\n",
       "      <td>management</td>\n",
       "      <td>married</td>\n",
       "      <td>tertiary</td>\n",
       "      <td>no</td>\n",
       "      <td>2143</td>\n",
       "      <td>yes</td>\n",
       "      <td>no</td>\n",
       "      <td>unknown</td>\n",
       "      <td>5</td>\n",
       "      <td>may</td>\n",
       "      <td>261</td>\n",
       "      <td>1</td>\n",
       "      <td>-1</td>\n",
       "      <td>0</td>\n",
       "      <td>unknown</td>\n",
       "      <td>1</td>\n",
       "    </tr>\n",
       "    <tr>\n",
       "      <th>1</th>\n",
       "      <td>44</td>\n",
       "      <td>technician</td>\n",
       "      <td>single</td>\n",
       "      <td>secondary</td>\n",
       "      <td>no</td>\n",
       "      <td>29</td>\n",
       "      <td>yes</td>\n",
       "      <td>no</td>\n",
       "      <td>unknown</td>\n",
       "      <td>5</td>\n",
       "      <td>may</td>\n",
       "      <td>151</td>\n",
       "      <td>1</td>\n",
       "      <td>-1</td>\n",
       "      <td>0</td>\n",
       "      <td>unknown</td>\n",
       "      <td>1</td>\n",
       "    </tr>\n",
       "    <tr>\n",
       "      <th>2</th>\n",
       "      <td>33</td>\n",
       "      <td>entrepreneur</td>\n",
       "      <td>married</td>\n",
       "      <td>secondary</td>\n",
       "      <td>no</td>\n",
       "      <td>2</td>\n",
       "      <td>yes</td>\n",
       "      <td>yes</td>\n",
       "      <td>unknown</td>\n",
       "      <td>5</td>\n",
       "      <td>may</td>\n",
       "      <td>76</td>\n",
       "      <td>1</td>\n",
       "      <td>-1</td>\n",
       "      <td>0</td>\n",
       "      <td>unknown</td>\n",
       "      <td>1</td>\n",
       "    </tr>\n",
       "    <tr>\n",
       "      <th>3</th>\n",
       "      <td>47</td>\n",
       "      <td>blue-collar</td>\n",
       "      <td>married</td>\n",
       "      <td>unknown</td>\n",
       "      <td>no</td>\n",
       "      <td>1506</td>\n",
       "      <td>yes</td>\n",
       "      <td>no</td>\n",
       "      <td>unknown</td>\n",
       "      <td>5</td>\n",
       "      <td>may</td>\n",
       "      <td>92</td>\n",
       "      <td>1</td>\n",
       "      <td>-1</td>\n",
       "      <td>0</td>\n",
       "      <td>unknown</td>\n",
       "      <td>1</td>\n",
       "    </tr>\n",
       "    <tr>\n",
       "      <th>4</th>\n",
       "      <td>33</td>\n",
       "      <td>unknown</td>\n",
       "      <td>single</td>\n",
       "      <td>unknown</td>\n",
       "      <td>no</td>\n",
       "      <td>1</td>\n",
       "      <td>no</td>\n",
       "      <td>no</td>\n",
       "      <td>unknown</td>\n",
       "      <td>5</td>\n",
       "      <td>may</td>\n",
       "      <td>198</td>\n",
       "      <td>1</td>\n",
       "      <td>-1</td>\n",
       "      <td>0</td>\n",
       "      <td>unknown</td>\n",
       "      <td>1</td>\n",
       "    </tr>\n",
       "  </tbody>\n",
       "</table>\n",
       "</div>"
      ],
      "text/plain": [
       "   Age           Job Marital Status  Education Credit  Balance (euros)  \\\n",
       "0   58    management        married   tertiary     no             2143   \n",
       "1   44    technician         single  secondary     no               29   \n",
       "2   33  entrepreneur        married  secondary     no                2   \n",
       "3   47   blue-collar        married    unknown     no             1506   \n",
       "4   33       unknown         single    unknown     no                1   \n",
       "\n",
       "  Housing Loan Personal Loan  Contact  Last Contact Day Last Contact Month  \\\n",
       "0          yes            no  unknown                 5                may   \n",
       "1          yes            no  unknown                 5                may   \n",
       "2          yes           yes  unknown                 5                may   \n",
       "3          yes            no  unknown                 5                may   \n",
       "4           no            no  unknown                 5                may   \n",
       "\n",
       "   Last Contact Duration  Campaign  Pdays  Previous Poutcome  Subscription  \n",
       "0                    261         1     -1         0  unknown             1  \n",
       "1                    151         1     -1         0  unknown             1  \n",
       "2                     76         1     -1         0  unknown             1  \n",
       "3                     92         1     -1         0  unknown             1  \n",
       "4                    198         1     -1         0  unknown             1  "
      ]
     },
     "execution_count": 1,
     "metadata": {},
     "output_type": "execute_result"
    }
   ],
   "source": [
    "import pandas as pd\n",
    "import numpy as np\n",
    "import matplotlib.pyplot as plt\n",
    "import seaborn as sns\n",
    "\n",
    "data = pd.read_csv('Bank Marketing.csv')\n",
    "data.head()"
   ]
  },
  {
   "cell_type": "markdown",
   "id": "engaging-contemporary",
   "metadata": {},
   "source": [
    "From the first 5 records we can clearly see which columns are categorical and which ones are numeric"
   ]
  },
  {
   "cell_type": "code",
   "execution_count": 2,
   "id": "noted-finland",
   "metadata": {},
   "outputs": [
    {
     "name": "stdout",
     "output_type": "stream",
     "text": [
      "<class 'pandas.core.frame.DataFrame'>\n",
      "RangeIndex: 45211 entries, 0 to 45210\n",
      "Data columns (total 17 columns):\n",
      " #   Column                 Non-Null Count  Dtype \n",
      "---  ------                 --------------  ----- \n",
      " 0   Age                    45211 non-null  int64 \n",
      " 1   Job                    45211 non-null  object\n",
      " 2   Marital Status         45211 non-null  object\n",
      " 3   Education              45211 non-null  object\n",
      " 4   Credit                 45211 non-null  object\n",
      " 5   Balance (euros)        45211 non-null  int64 \n",
      " 6   Housing Loan           45211 non-null  object\n",
      " 7   Personal Loan          45211 non-null  object\n",
      " 8   Contact                45211 non-null  object\n",
      " 9   Last Contact Day       45211 non-null  int64 \n",
      " 10  Last Contact Month     45211 non-null  object\n",
      " 11  Last Contact Duration  45211 non-null  int64 \n",
      " 12  Campaign               45211 non-null  int64 \n",
      " 13  Pdays                  45211 non-null  int64 \n",
      " 14  Previous               45211 non-null  int64 \n",
      " 15  Poutcome               45211 non-null  object\n",
      " 16  Subscription           45211 non-null  int64 \n",
      "dtypes: int64(8), object(9)\n",
      "memory usage: 5.9+ MB\n"
     ]
    }
   ],
   "source": [
    "data.info()"
   ]
  },
  {
   "cell_type": "markdown",
   "id": "dated-corps",
   "metadata": {},
   "source": [
    "There are no missing values in the dataset."
   ]
  },
  {
   "cell_type": "code",
   "execution_count": 11,
   "id": "spread-eating",
   "metadata": {},
   "outputs": [
    {
     "name": "stdout",
     "output_type": "stream",
     "text": [
      "Job:\n",
      "blue-collar      9732\n",
      "management       9458\n",
      "technician       7597\n",
      "admin.           5171\n",
      "services         4154\n",
      "retired          2264\n",
      "self-employed    1579\n",
      "entrepreneur     1487\n",
      "unemployed       1303\n",
      "housemaid        1240\n",
      "student           938\n",
      "unknown           288\n",
      "Name: Job, dtype: int64\n",
      "\n",
      "Marital Status:\n",
      "married     27214\n",
      "single      12790\n",
      "divorced     5207\n",
      "Name: Marital Status, dtype: int64\n",
      "\n",
      "Education:\n",
      "secondary    23202\n",
      "tertiary     13301\n",
      "primary       6851\n",
      "unknown       1857\n",
      "Name: Education, dtype: int64\n",
      "\n",
      "Credit:\n",
      "no     44396\n",
      "yes      815\n",
      "Name: Credit, dtype: int64\n",
      "\n",
      "Housing Loan:\n",
      "yes    25130\n",
      "no     20081\n",
      "Name: Housing Loan, dtype: int64\n",
      "\n",
      "Personal Loan:\n",
      "no     37967\n",
      "yes     7244\n",
      "Name: Personal Loan, dtype: int64\n",
      "\n",
      "Contact:\n",
      "cellular     29285\n",
      "unknown      13020\n",
      "telephone     2906\n",
      "Name: Contact, dtype: int64\n",
      "\n",
      "Last Contact Month:\n",
      "may    13766\n",
      "jul     6895\n",
      "aug     6247\n",
      "jun     5341\n",
      "nov     3970\n",
      "apr     2932\n",
      "feb     2649\n",
      "jan     1403\n",
      "oct      738\n",
      "sep      579\n",
      "mar      477\n",
      "dec      214\n",
      "Name: Last Contact Month, dtype: int64\n",
      "\n",
      "Poutcome:\n",
      "unknown    36959\n",
      "failure     4901\n",
      "other       1840\n",
      "success     1511\n",
      "Name: Poutcome, dtype: int64\n",
      "\n"
     ]
    }
   ],
   "source": [
    "for col in data.select_dtypes(include=['object', 'category']).columns:\n",
    "    print(f'{col}:\\n{data[col].value_counts()}\\n')"
   ]
  },
  {
   "cell_type": "markdown",
   "id": "billion-kitty",
   "metadata": {},
   "source": [
    "Categorical features do not contain many categorical features"
   ]
  },
  {
   "cell_type": "code",
   "execution_count": 27,
   "id": "welcome-christmas",
   "metadata": {},
   "outputs": [
    {
     "data": {
      "image/png": "[encoded data removed]",
      "text/plain": [
       "<Figure size 1296x432 with 1 Axes>"
      ]
     },
     "metadata": {
      "needs_background": "light"
     },
     "output_type": "display_data"
    },
    {
     "name": "stdout",
     "output_type": "stream",
     "text": [
      "13.76% subscribed for management category.\n",
      "11.06% subscribed for technician category.\n",
      "8.27% subscribed for entrepreneur category.\n",
      "7.27% subscribed for blue-collar category.\n",
      "11.81% subscribed for unknown category.\n",
      "22.79% subscribed for retired category.\n",
      "12.20% subscribed for admin. category.\n",
      "8.88% subscribed for services category.\n",
      "11.84% subscribed for self-employed category.\n",
      "15.50% subscribed for unemployed category.\n",
      "8.79% subscribed for housemaid category.\n",
      "28.68% subscribed for student category.\n"
     ]
    },
    {
     "data": {
      "image/png": "[encoded data removed]",
      "text/plain": [
       "<Figure size 1296x432 with 1 Axes>"
      ]
     },
     "metadata": {
      "needs_background": "light"
     },
     "output_type": "display_data"
    },
    {
     "name": "stdout",
     "output_type": "stream",
     "text": [
      "10.12% subscribed for married category.\n",
      "14.95% subscribed for single category.\n",
      "11.95% subscribed for divorced category.\n"
     ]
    },
    {
     "data": {
      "image/png": "[encoded data removed]",
      "text/plain": [
       "<Figure size 1296x432 with 1 Axes>"
      ]
     },
     "metadata": {
      "needs_background": "light"
     },
     "output_type": "display_data"
    },
    {
     "name": "stdout",
     "output_type": "stream",
     "text": [
      "15.01% subscribed for tertiary category.\n",
      "10.56% subscribed for secondary category.\n",
      "13.57% subscribed for unknown category.\n",
      "8.63% subscribed for primary category.\n"
     ]
    },
    {
     "data": {
      "image/png": "[encoded data removed]",
      "text/plain": [
       "<Figure size 1296x432 with 1 Axes>"
      ]
     },
     "metadata": {
      "needs_background": "light"
     },
     "output_type": "display_data"
    },
    {
     "name": "stdout",
     "output_type": "stream",
     "text": [
      "11.80% subscribed for no category.\n",
      "6.38% subscribed for yes category.\n"
     ]
    },
    {
     "data": {
      "image/png": "[encoded data removed]",
      "text/plain": [
       "<Figure size 1296x432 with 1 Axes>"
      ]
     },
     "metadata": {
      "needs_background": "light"
     },
     "output_type": "display_data"
    },
    {
     "name": "stdout",
     "output_type": "stream",
     "text": [
      "7.70% subscribed for yes category.\n",
      "16.70% subscribed for no category.\n"
     ]
    },
    {
     "data": {
      "image/png": "[encoded data removed]",
      "text/plain": [
       "<Figure size 1296x432 with 1 Axes>"
      ]
     },
     "metadata": {
      "needs_background": "light"
     },
     "output_type": "display_data"
    },
    {
     "name": "stdout",
     "output_type": "stream",
     "text": [
      "12.66% subscribed for no category.\n",
      "6.68% subscribed for yes category.\n"
     ]
    },
    {
     "data": {
      "image/png": "[encoded data removed]",
      "text/plain": [
       "<Figure size 1296x432 with 1 Axes>"
      ]
     },
     "metadata": {
      "needs_background": "light"
     },
     "output_type": "display_data"
    },
    {
     "name": "stdout",
     "output_type": "stream",
     "text": [
      "4.07% subscribed for unknown category.\n",
      "14.92% subscribed for cellular category.\n",
      "13.42% subscribed for telephone category.\n"
     ]
    },
    {
     "data": {
      "image/png": "[encoded data removed]",
      "text/plain": [
       "<Figure size 1296x432 with 1 Axes>"
      ]
     },
     "metadata": {
      "needs_background": "light"
     },
     "output_type": "display_data"
    },
    {
     "name": "stdout",
     "output_type": "stream",
     "text": [
      "6.72% subscribed for may category.\n",
      "10.22% subscribed for jun category.\n",
      "9.09% subscribed for jul category.\n",
      "11.01% subscribed for aug category.\n",
      "43.77% subscribed for oct category.\n",
      "10.15% subscribed for nov category.\n",
      "46.73% subscribed for dec category.\n",
      "10.12% subscribed for jan category.\n",
      "16.65% subscribed for feb category.\n",
      "51.99% subscribed for mar category.\n",
      "19.68% subscribed for apr category.\n",
      "46.46% subscribed for sep category.\n"
     ]
    },
    {
     "data": {
      "image/png": "[encoded data removed]",
      "text/plain": [
       "<Figure size 1296x432 with 1 Axes>"
      ]
     },
     "metadata": {
      "needs_background": "light"
     },
     "output_type": "display_data"
    },
    {
     "name": "stdout",
     "output_type": "stream",
     "text": [
      "9.16% subscribed for unknown category.\n",
      "12.61% subscribed for failure category.\n",
      "16.68% subscribed for other category.\n",
      "64.73% subscribed for success category.\n"
     ]
    }
   ],
   "source": [
    "cat_cols = ['Job', 'Marital Status', 'Education', 'Credit', 'Housing Loan', 'Personal Loan', 'Contact', 'Last Contact Month', 'Poutcome']\n",
    "num_cols = ['Age', 'Balance (euros)', 'Last Contact Day', 'Last Contact Duration', 'Campaign', 'Pdays', 'Previous']\n",
    "for cat_col in cat_cols:\n",
    "    plt.figure(figsize=(18, 6))\n",
    "    sns.countplot(data=data, x=cat_col, hue='Subscription')\n",
    "    plt.show()\n",
    "    for category in data[cat_col].unique():\n",
    "        total = data[data[cat_col] == category].shape[0]\n",
    "        subscribed = data[(data[cat_col] == category) & (data['Subscription'] == 2)].shape[0]\n",
    "        print(f'{(subscribed/total)*100:.2f}% subscribed for {category} category.')"
   ]
  },
  {
   "cell_type": "markdown",
   "id": "timely-checklist",
   "metadata": {},
   "source": [
    "We can see the percentage of subscription among different marital status is roughly the same, hence we might consider dropping this column later because it doesn't seem to provide any valuable data."
   ]
  },
  {
   "cell_type": "code",
   "execution_count": 48,
   "id": "adjacent-creek",
   "metadata": {},
   "outputs": [
    {
     "data": {
      "text/html": [
       "<div>\n",
       "<style scoped>\n",
       "    .dataframe tbody tr th:only-of-type {\n",
       "        vertical-align: middle;\n",
       "    }\n",
       "\n",
       "    .dataframe tbody tr th {\n",
       "        vertical-align: top;\n",
       "    }\n",
       "\n",
       "    .dataframe thead th {\n",
       "        text-align: right;\n",
       "    }\n",
       "</style>\n",
       "<table border=\"1\" class=\"dataframe\">\n",
       "  <thead>\n",
       "    <tr style=\"text-align: right;\">\n",
       "      <th></th>\n",
       "      <th>Age</th>\n",
       "      <th>Balance (euros)</th>\n",
       "      <th>Last Contact Day</th>\n",
       "      <th>Last Contact Duration</th>\n",
       "      <th>Campaign</th>\n",
       "      <th>Pdays</th>\n",
       "      <th>Previous</th>\n",
       "      <th>Subscription</th>\n",
       "    </tr>\n",
       "  </thead>\n",
       "  <tbody>\n",
       "    <tr>\n",
       "      <th>count</th>\n",
       "      <td>45211.000000</td>\n",
       "      <td>45211.000000</td>\n",
       "      <td>45211.000000</td>\n",
       "      <td>45211.000000</td>\n",
       "      <td>45211.000000</td>\n",
       "      <td>45211.000000</td>\n",
       "      <td>45211.000000</td>\n",
       "      <td>45211.000000</td>\n",
       "    </tr>\n",
       "    <tr>\n",
       "      <th>mean</th>\n",
       "      <td>40.936210</td>\n",
       "      <td>1362.272058</td>\n",
       "      <td>15.806419</td>\n",
       "      <td>258.163080</td>\n",
       "      <td>2.763841</td>\n",
       "      <td>40.197828</td>\n",
       "      <td>0.580323</td>\n",
       "      <td>1.116985</td>\n",
       "    </tr>\n",
       "    <tr>\n",
       "      <th>std</th>\n",
       "      <td>10.618762</td>\n",
       "      <td>3044.765829</td>\n",
       "      <td>8.322476</td>\n",
       "      <td>257.527812</td>\n",
       "      <td>3.098021</td>\n",
       "      <td>100.128746</td>\n",
       "      <td>2.303441</td>\n",
       "      <td>0.321406</td>\n",
       "    </tr>\n",
       "    <tr>\n",
       "      <th>min</th>\n",
       "      <td>18.000000</td>\n",
       "      <td>-8019.000000</td>\n",
       "      <td>1.000000</td>\n",
       "      <td>0.000000</td>\n",
       "      <td>1.000000</td>\n",
       "      <td>-1.000000</td>\n",
       "      <td>0.000000</td>\n",
       "      <td>1.000000</td>\n",
       "    </tr>\n",
       "    <tr>\n",
       "      <th>25%</th>\n",
       "      <td>33.000000</td>\n",
       "      <td>72.000000</td>\n",
       "      <td>8.000000</td>\n",
       "      <td>103.000000</td>\n",
       "      <td>1.000000</td>\n",
       "      <td>-1.000000</td>\n",
       "      <td>0.000000</td>\n",
       "      <td>1.000000</td>\n",
       "    </tr>\n",
       "    <tr>\n",
       "      <th>50%</th>\n",
       "      <td>39.000000</td>\n",
       "      <td>448.000000</td>\n",
       "      <td>16.000000</td>\n",
       "      <td>180.000000</td>\n",
       "      <td>2.000000</td>\n",
       "      <td>-1.000000</td>\n",
       "      <td>0.000000</td>\n",
       "      <td>1.000000</td>\n",
       "    </tr>\n",
       "    <tr>\n",
       "      <th>75%</th>\n",
       "      <td>48.000000</td>\n",
       "      <td>1428.000000</td>\n",
       "      <td>21.000000</td>\n",
       "      <td>319.000000</td>\n",
       "      <td>3.000000</td>\n",
       "      <td>-1.000000</td>\n",
       "      <td>0.000000</td>\n",
       "      <td>1.000000</td>\n",
       "    </tr>\n",
       "    <tr>\n",
       "      <th>max</th>\n",
       "      <td>95.000000</td>\n",
       "      <td>102127.000000</td>\n",
       "      <td>31.000000</td>\n",
       "      <td>4918.000000</td>\n",
       "      <td>63.000000</td>\n",
       "      <td>871.000000</td>\n",
       "      <td>275.000000</td>\n",
       "      <td>2.000000</td>\n",
       "    </tr>\n",
       "  </tbody>\n",
       "</table>\n",
       "</div>"
      ],
      "text/plain": [
       "                Age  Balance (euros)  Last Contact Day  Last Contact Duration  \\\n",
       "count  45211.000000     45211.000000      45211.000000           45211.000000   \n",
       "mean      40.936210      1362.272058         15.806419             258.163080   \n",
       "std       10.618762      3044.765829          8.322476             257.527812   \n",
       "min       18.000000     -8019.000000          1.000000               0.000000   \n",
       "25%       33.000000        72.000000          8.000000             103.000000   \n",
       "50%       39.000000       448.000000         16.000000             180.000000   \n",
       "75%       48.000000      1428.000000         21.000000             319.000000   \n",
       "max       95.000000    102127.000000         31.000000            4918.000000   \n",
       "\n",
       "           Campaign         Pdays      Previous  Subscription  \n",
       "count  45211.000000  45211.000000  45211.000000  45211.000000  \n",
       "mean       2.763841     40.197828      0.580323      1.116985  \n",
       "std        3.098021    100.128746      2.303441      0.321406  \n",
       "min        1.000000     -1.000000      0.000000      1.000000  \n",
       "25%        1.000000     -1.000000      0.000000      1.000000  \n",
       "50%        2.000000     -1.000000      0.000000      1.000000  \n",
       "75%        3.000000     -1.000000      0.000000      1.000000  \n",
       "max       63.000000    871.000000    275.000000      2.000000  "
      ]
     },
     "execution_count": 48,
     "metadata": {},
     "output_type": "execute_result"
    }
   ],
   "source": [
    "data.describe()"
   ]
  },
  {
   "cell_type": "markdown",
   "id": "undefined-bullet",
   "metadata": {},
   "source": [
    "Almost all columns contain outliers."
   ]
  },
  {
   "cell_type": "code",
   "execution_count": 91,
   "id": "hundred-harbor",
   "metadata": {},
   "outputs": [],
   "source": [
    "from sklearn.feature_selection import mutual_info_classif\n",
    "from sklearn.preprocessing import OrdinalEncoder, OneHotEncoder, StandardScaler\n",
    "from sklearn.model_selection import train_test_split\n",
    "from sklearn.pipeline import Pipeline\n",
    "from sklearn.compose import ColumnTransformer\n",
    "X = data.iloc[:, :-1]\n",
    "y = data.iloc[:, -1].replace({1 : 0, 2 : 1})\n",
    "X_train, X_test, y_train, y_test = train_test_split(X, y, test_size=0.2, stratify=y, random_state=0)"
   ]
  },
  {
   "cell_type": "code",
   "execution_count": 92,
   "id": "starting-rabbit",
   "metadata": {},
   "outputs": [
    {
     "data": {
      "text/plain": [
       "[('Campaign', 0.0706959255571118),\n",
       " ('Contact', 0.029138590099224038),\n",
       " ('Previous', 0.02726947719238959),\n",
       " ('Personal Loan', 0.024086977485014247),\n",
       " ('Last Contact Month', 0.02167526371509121),\n",
       " ('Housing Loan', 0.013603409254607055),\n",
       " ('Poutcome', 0.01296696857456746),\n",
       " ('Age', 0.012922310714563068),\n",
       " ('Last Contact Day', 0.010592999993035424),\n",
       " ('Credit', 0.009327798182402688),\n",
       " ('Last Contact Duration', 0.0039155242112351996),\n",
       " ('Balance (euros)', 0.003688678243010779),\n",
       " ('Pdays', 0.0029658253029982706),\n",
       " ('Marital Status', 0.002656982410439244),\n",
       " ('Job', 0.001995412346137135),\n",
       " ('Education', 0.00026272439547190326)]"
      ]
     },
     "execution_count": 92,
     "metadata": {},
     "output_type": "execute_result"
    }
   ],
   "source": [
    "ct = ColumnTransformer(transformers=[('ordinal_encoder', OrdinalEncoder(), cat_cols)], remainder='passthrough')\n",
    "X_train_copy = X_train.copy()\n",
    "y_train_copy = y_train.copy()\n",
    "X_train_copy = ct.fit_transform(X_train_copy)\n",
    "X_train_copy = pd.DataFrame(X_train_copy, columns=X_train.columns)\n",
    "mut_info = mutual_info_classif(X_train_copy, y_train_copy, discrete_features=[1, 2, 3, 4, 6, 7, 8, 15])\n",
    "sorted(list(zip(X_train_copy.columns, mut_info)), key=lambda x: x[1], reverse=True)"
   ]
  },
  {
   "cell_type": "markdown",
   "id": "accessible-portable",
   "metadata": {},
   "source": [
    "The following list contains the information about the target variable obtained from specific columns. I'll keep only those with the information > 0.01"
   ]
  },
  {
   "cell_type": "code",
   "execution_count": 93,
   "id": "labeled-bench",
   "metadata": {},
   "outputs": [
    {
     "data": {
      "text/html": [
       "<div>\n",
       "<style scoped>\n",
       "    .dataframe tbody tr th:only-of-type {\n",
       "        vertical-align: middle;\n",
       "    }\n",
       "\n",
       "    .dataframe tbody tr th {\n",
       "        vertical-align: top;\n",
       "    }\n",
       "\n",
       "    .dataframe thead th {\n",
       "        text-align: right;\n",
       "    }\n",
       "</style>\n",
       "<table border=\"1\" class=\"dataframe\">\n",
       "  <thead>\n",
       "    <tr style=\"text-align: right;\">\n",
       "      <th></th>\n",
       "      <th>Campaign</th>\n",
       "      <th>Contact</th>\n",
       "      <th>Previous</th>\n",
       "      <th>Personal Loan</th>\n",
       "      <th>Last Contact Month</th>\n",
       "      <th>Housing Loan</th>\n",
       "      <th>Last Contact Day</th>\n",
       "      <th>Poutcome</th>\n",
       "    </tr>\n",
       "  </thead>\n",
       "  <tbody>\n",
       "    <tr>\n",
       "      <th>32213</th>\n",
       "      <td>1</td>\n",
       "      <td>cellular</td>\n",
       "      <td>1</td>\n",
       "      <td>no</td>\n",
       "      <td>apr</td>\n",
       "      <td>yes</td>\n",
       "      <td>16</td>\n",
       "      <td>failure</td>\n",
       "    </tr>\n",
       "    <tr>\n",
       "      <th>36907</th>\n",
       "      <td>2</td>\n",
       "      <td>telephone</td>\n",
       "      <td>13</td>\n",
       "      <td>no</td>\n",
       "      <td>may</td>\n",
       "      <td>yes</td>\n",
       "      <td>12</td>\n",
       "      <td>success</td>\n",
       "    </tr>\n",
       "    <tr>\n",
       "      <th>1447</th>\n",
       "      <td>2</td>\n",
       "      <td>unknown</td>\n",
       "      <td>0</td>\n",
       "      <td>no</td>\n",
       "      <td>may</td>\n",
       "      <td>yes</td>\n",
       "      <td>8</td>\n",
       "      <td>unknown</td>\n",
       "    </tr>\n",
       "    <tr>\n",
       "      <th>10973</th>\n",
       "      <td>3</td>\n",
       "      <td>unknown</td>\n",
       "      <td>0</td>\n",
       "      <td>yes</td>\n",
       "      <td>jun</td>\n",
       "      <td>no</td>\n",
       "      <td>17</td>\n",
       "      <td>unknown</td>\n",
       "    </tr>\n",
       "    <tr>\n",
       "      <th>26982</th>\n",
       "      <td>7</td>\n",
       "      <td>telephone</td>\n",
       "      <td>0</td>\n",
       "      <td>yes</td>\n",
       "      <td>nov</td>\n",
       "      <td>no</td>\n",
       "      <td>21</td>\n",
       "      <td>unknown</td>\n",
       "    </tr>\n",
       "    <tr>\n",
       "      <th>...</th>\n",
       "      <td>...</td>\n",
       "      <td>...</td>\n",
       "      <td>...</td>\n",
       "      <td>...</td>\n",
       "      <td>...</td>\n",
       "      <td>...</td>\n",
       "      <td>...</td>\n",
       "      <td>...</td>\n",
       "    </tr>\n",
       "    <tr>\n",
       "      <th>41949</th>\n",
       "      <td>1</td>\n",
       "      <td>telephone</td>\n",
       "      <td>0</td>\n",
       "      <td>no</td>\n",
       "      <td>oct</td>\n",
       "      <td>no</td>\n",
       "      <td>22</td>\n",
       "      <td>unknown</td>\n",
       "    </tr>\n",
       "    <tr>\n",
       "      <th>22019</th>\n",
       "      <td>3</td>\n",
       "      <td>cellular</td>\n",
       "      <td>0</td>\n",
       "      <td>no</td>\n",
       "      <td>aug</td>\n",
       "      <td>yes</td>\n",
       "      <td>20</td>\n",
       "      <td>unknown</td>\n",
       "    </tr>\n",
       "    <tr>\n",
       "      <th>643</th>\n",
       "      <td>1</td>\n",
       "      <td>unknown</td>\n",
       "      <td>0</td>\n",
       "      <td>no</td>\n",
       "      <td>may</td>\n",
       "      <td>yes</td>\n",
       "      <td>6</td>\n",
       "      <td>unknown</td>\n",
       "    </tr>\n",
       "    <tr>\n",
       "      <th>20094</th>\n",
       "      <td>2</td>\n",
       "      <td>cellular</td>\n",
       "      <td>0</td>\n",
       "      <td>no</td>\n",
       "      <td>aug</td>\n",
       "      <td>no</td>\n",
       "      <td>11</td>\n",
       "      <td>unknown</td>\n",
       "    </tr>\n",
       "    <tr>\n",
       "      <th>18</th>\n",
       "      <td>1</td>\n",
       "      <td>unknown</td>\n",
       "      <td>0</td>\n",
       "      <td>no</td>\n",
       "      <td>may</td>\n",
       "      <td>yes</td>\n",
       "      <td>5</td>\n",
       "      <td>unknown</td>\n",
       "    </tr>\n",
       "  </tbody>\n",
       "</table>\n",
       "<p>36168 rows × 8 columns</p>\n",
       "</div>"
      ],
      "text/plain": [
       "       Campaign    Contact  Previous Personal Loan Last Contact Month  \\\n",
       "32213         1   cellular         1            no                apr   \n",
       "36907         2  telephone        13            no                may   \n",
       "1447          2    unknown         0            no                may   \n",
       "10973         3    unknown         0           yes                jun   \n",
       "26982         7  telephone         0           yes                nov   \n",
       "...         ...        ...       ...           ...                ...   \n",
       "41949         1  telephone         0            no                oct   \n",
       "22019         3   cellular         0            no                aug   \n",
       "643           1    unknown         0            no                may   \n",
       "20094         2   cellular         0            no                aug   \n",
       "18            1    unknown         0            no                may   \n",
       "\n",
       "      Housing Loan  Last Contact Day Poutcome  \n",
       "32213          yes                16  failure  \n",
       "36907          yes                12  success  \n",
       "1447           yes                 8  unknown  \n",
       "10973           no                17  unknown  \n",
       "26982           no                21  unknown  \n",
       "...            ...               ...      ...  \n",
       "41949           no                22  unknown  \n",
       "22019          yes                20  unknown  \n",
       "643            yes                 6  unknown  \n",
       "20094           no                11  unknown  \n",
       "18             yes                 5  unknown  \n",
       "\n",
       "[36168 rows x 8 columns]"
      ]
     },
     "execution_count": 93,
     "metadata": {},
     "output_type": "execute_result"
    }
   ],
   "source": [
    "selected_cols = ['Campaign', 'Contact', 'Previous', 'Personal Loan', 'Last Contact Month', 'Housing Loan', 'Last Contact Day', 'Poutcome']\n",
    "X_train[selected_cols]"
   ]
  },
  {
   "cell_type": "code",
   "execution_count": 94,
   "id": "above-least",
   "metadata": {},
   "outputs": [],
   "source": [
    "selected_cat_cols = ['Contact', 'Personal Loan', 'Last Contact Month', 'Housing Loan', 'Poutcome']\n",
    "selected_num_cols = ['Campaign', 'Previous', 'Last Contact Day']\n",
    "\n",
    "num_transformer = Pipeline(steps=[('scaler', StandardScaler())])\n",
    "cat_transformer = Pipeline(steps=[('encoder', OneHotEncoder(handle_unknown='ignore'))])\n",
    "\n",
    "transformer = ColumnTransformer(transformers=[('num', num_transformer, selected_num_cols),\n",
    "                                              ('cat', cat_transformer, selected_cat_cols)])\n",
    "\n",
    "X_train = transformer.fit_transform(X_train)"
   ]
  },
  {
   "cell_type": "code",
   "execution_count": 95,
   "id": "hollow-hypothetical",
   "metadata": {},
   "outputs": [
    {
     "name": "stdout",
     "output_type": "stream",
     "text": [
      "Best Accuracy: 88.63 %\n",
      "Best Parameters: {'bootstrap': True, 'criterion': 'gini', 'n_estimators': 130}\n"
     ]
    }
   ],
   "source": [
    "from sklearn.model_selection import GridSearchCV\n",
    "from sklearn.ensemble import RandomForestClassifier\n",
    "\n",
    "params = {'n_estimators' : [100, 110, 120, 130, 140, 150],\n",
    "          'criterion' : ['gini', 'entropy'],\n",
    "          'bootstrap' : [True, False]}\n",
    "grid_search = GridSearchCV(estimator=RandomForestClassifier(),\n",
    "                           param_grid=params,\n",
    "                           scoring='accuracy',\n",
    "                           cv=10,\n",
    "                           n_jobs=-1)\n",
    "grid_search.fit(X_train, y_train)\n",
    "best_accuracy = grid_search.best_score_\n",
    "best_parameters = grid_search.best_params_\n",
    "print(\"Best Accuracy: {:.2f} %\".format(best_accuracy*100))\n",
    "print(\"Best Parameters:\", best_parameters)"
   ]
  },
  {
   "cell_type": "code",
   "execution_count": 97,
   "id": "modern-standing",
   "metadata": {},
   "outputs": [
    {
     "data": {
      "text/plain": [
       "0.884662169633971"
      ]
     },
     "execution_count": 97,
     "metadata": {},
     "output_type": "execute_result"
    }
   ],
   "source": [
    "clf = RandomForestClassifier(bootstrap=True, criterion='gini', n_estimators=130)\n",
    "clf.fit(X_train, y_train)\n",
    "X_test = transformer.transform(X_test)\n",
    "clf.score(X_test, y_test)"
   ]
  },
  {
   "cell_type": "markdown",
   "id": "adopted-roads",
   "metadata": {},
   "source": [
    "Random Forest score"
   ]
  },
  {
   "cell_type": "code",
   "execution_count": 101,
   "id": "surrounded-failure",
   "metadata": {},
   "outputs": [
    {
     "name": "stdout",
     "output_type": "stream",
     "text": [
      "Epoch 1/15\n",
      "362/362 [==============================] - 2s 4ms/step - loss: 0.4404 - accuracy: 0.8163\n",
      "Epoch 2/15\n",
      "362/362 [==============================] - 1s 4ms/step - loss: 0.3211 - accuracy: 0.8830\n",
      "Epoch 3/15\n",
      "362/362 [==============================] - 1s 4ms/step - loss: 0.3095 - accuracy: 0.8848\n",
      "Epoch 4/15\n",
      "362/362 [==============================] - 1s 4ms/step - loss: 0.3024 - accuracy: 0.8906\n",
      "Epoch 5/15\n",
      "362/362 [==============================] - 1s 4ms/step - loss: 0.2990 - accuracy: 0.8923\n",
      "Epoch 6/15\n",
      "362/362 [==============================] - 2s 4ms/step - loss: 0.2969 - accuracy: 0.8928\n",
      "Epoch 7/15\n",
      "362/362 [==============================] - 2s 5ms/step - loss: 0.2956 - accuracy: 0.8927\n",
      "Epoch 8/15\n",
      "362/362 [==============================] - 1s 4ms/step - loss: 0.2945 - accuracy: 0.8930: 0s - loss:\n",
      "Epoch 9/15\n",
      "362/362 [==============================] - 2s 5ms/step - loss: 0.2938 - accuracy: 0.8931\n",
      "Epoch 10/15\n",
      "362/362 [==============================] - 2s 4ms/step - loss: 0.2934 - accuracy: 0.8935\n",
      "Epoch 11/15\n",
      "362/362 [==============================] - 1s 4ms/step - loss: 0.2928 - accuracy: 0.8939\n",
      "Epoch 12/15\n",
      "362/362 [==============================] - 2s 4ms/step - loss: 0.2924 - accuracy: 0.8936\n",
      "Epoch 13/15\n",
      "362/362 [==============================] - 2s 5ms/step - loss: 0.2921 - accuracy: 0.8933\n",
      "Epoch 14/15\n",
      "362/362 [==============================] - 1s 4ms/step - loss: 0.2919 - accuracy: 0.8937\n",
      "Epoch 15/15\n",
      "362/362 [==============================] - 2s 4ms/step - loss: 0.2915 - accuracy: 0.8934\n"
     ]
    },
    {
     "data": {
      "text/plain": [
       "<tensorflow.python.keras.callbacks.History at 0x180bb5e8610>"
      ]
     },
     "execution_count": 101,
     "metadata": {},
     "output_type": "execute_result"
    }
   ],
   "source": [
    "from tensorflow.keras.models import Sequential\n",
    "from tensorflow.keras.layers import Dense\n",
    "\n",
    "ann = Sequential()\n",
    "ann.add(Dense(6, activation='relu', input_shape=(26,)))\n",
    "ann.add(Dense(6, activation='relu'))\n",
    "ann.add(Dense(1, activation='sigmoid'))\n",
    "ann.compile(optimizer='adam', loss='binary_crossentropy', metrics=['accuracy'])\n",
    "ann.fit(X_train, y_train, epochs=15, batch_size=100)"
   ]
  },
  {
   "cell_type": "code",
   "execution_count": 102,
   "id": "muslim-spencer",
   "metadata": {},
   "outputs": [
    {
     "name": "stdout",
     "output_type": "stream",
     "text": [
      "283/283 [==============================] - 1s 2ms/step - loss: 0.2899 - accuracy: 0.8934: 0s - loss: 0.274\n"
     ]
    },
    {
     "data": {
      "text/plain": [
       "[0.2898712158203125, 0.8933982253074646]"
      ]
     },
     "execution_count": 102,
     "metadata": {},
     "output_type": "execute_result"
    }
   ],
   "source": [
    "ann.evaluate(X_test, y_test)"
   ]
  },
  {
   "cell_type": "markdown",
   "id": "geographic-premium",
   "metadata": {},
   "source": [
    "ANN achieved a slightly better score"
   ]
  },
  {
   "cell_type": "code",
   "execution_count": null,
   "id": "interested-things",
   "metadata": {},
   "outputs": [],
   "source": []
  }
 ],
 "metadata": {
  "kernelspec": {
   "display_name": "Python 3",
   "language": "python",
   "name": "python3"
  },
  "language_info": {
   "codemirror_mode": {
    "name": "ipython",
    "version": 3
   },
   "file_extension": ".py",
   "mimetype": "text/x-python",
   "name": "python",
   "nbconvert_exporter": "python",
   "pygments_lexer": "ipython3",
   "version": "3.9.2"
  }
 },
 "nbformat": 4,
 "nbformat_minor": 5
}
